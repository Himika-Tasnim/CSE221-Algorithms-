{
 "cells": [
  {
   "cell_type": "code",
   "execution_count": 24,
   "metadata": {},
   "outputs": [],
   "source": [
    "import heapq \n",
    "\n",
    "def make_set(vertex):\n",
    "    global parent\n",
    "    global size\n",
    "    parent[vertex]=vertex\n",
    "    size[vertex]=1\n",
    "\n",
    "def find_parent(vertex):\n",
    "    if parent[vertex]==vertex:\n",
    "        return vertex\n",
    "    parent[vertex] = find_parent(parent[vertex])\n",
    "    return parent[vertex]\n",
    "\n",
    "def union_set(w,x,y):\n",
    "    x=find_parent(x)\n",
    "    y=find_parent(y)\n",
    "    if x!=y:\n",
    "        if size[x]<size[y]:\n",
    "            temp=x\n",
    "            x=y\n",
    "            y=temp\n",
    "        parent[y]=x\n",
    "        size[x]+=size[y]\n",
    "        return w\n",
    "    return 0\n",
    "    \n",
    "\n",
    "inp=open(\"input1.txt\",\"r\")\n",
    "out=open(\"output1.txt\",\"w\")\n",
    "t=list(map(int,inp.readline().split())) \n",
    "parent=[0]*(t[0]+1)\n",
    "size=[0]*(t[0]+1)\n",
    "\n",
    "for k in range(t[0]+1):\n",
    "    make_set(k)\n",
    "\n",
    "heap=[]\n",
    "heapq.heapify(heap)\n",
    "\n",
    "for i in range(1,t[1]):\n",
    "    v1,v2,w=map(int,inp.readline().split())\n",
    "    heapq.heappush(heap,[w,v1,v2])\n",
    "\n",
    "result=0\n",
    "while heap!=[]:\n",
    "    temp=heapq.heappop(heap)\n",
    "    result+=union_set(temp[0],temp[1],temp[2])\n",
    "\n",
    "out.write(str(result))\n",
    "inp.close()\n",
    "out.close()"
   ]
  }
 ],
 "metadata": {
  "kernelspec": {
   "display_name": ".venv",
   "language": "python",
   "name": "python3"
  },
  "language_info": {
   "codemirror_mode": {
    "name": "ipython",
    "version": 3
   },
   "file_extension": ".py",
   "mimetype": "text/x-python",
   "name": "python",
   "nbconvert_exporter": "python",
   "pygments_lexer": "ipython3",
   "version": "3.11.1"
  },
  "orig_nbformat": 4
 },
 "nbformat": 4,
 "nbformat_minor": 2
}

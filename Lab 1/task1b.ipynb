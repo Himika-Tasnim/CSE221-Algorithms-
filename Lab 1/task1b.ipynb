{
 "cells": [
  {
   "cell_type": "code",
   "execution_count": 1,
   "metadata": {},
   "outputs": [],
   "source": [
    "f=open(\"input1b.txt\",\"r\")\n",
    "f1=open(\"output1b.txt\",\"w\")\n",
    "test=int(f.readline())\n",
    "for i in range(test):\n",
    "    x=f.readline().split()\n",
    "    if x[2]==\"+\":\n",
    "        f1.write(f\"The result of {int(x[1])} + {int(x[3])} is {int(x[1])+int(x[3])}\\n\")\n",
    "    elif x[2]==\"-\":\n",
    "        f1.write(f\"The result of {int(x[1])} - {int(x[3])} is {int(x[1])-int(x[3])}\\n\")\n",
    "    elif x[2]==\"*\":\n",
    "        f1.write(f\"The result of {int(x[1])} * {int(x[3])} is {int(x[1])*int(x[3])}\\n\")\n",
    "    else:\n",
    "        f1.write(f\"The result of {int(x[1])} / {int(x[3])} is {int(x[1])/int(x[3])}\\n\")"
   ]
  }
 ],
 "metadata": {
  "kernelspec": {
   "display_name": "Python 3",
   "language": "python",
   "name": "python3"
  },
  "language_info": {
   "codemirror_mode": {
    "name": "ipython",
    "version": 3
   },
   "file_extension": ".py",
   "mimetype": "text/x-python",
   "name": "python",
   "nbconvert_exporter": "python",
   "pygments_lexer": "ipython3",
   "version": "3.11.1"
  },
  "orig_nbformat": 4
 },
 "nbformat": 4,
 "nbformat_minor": 2
}

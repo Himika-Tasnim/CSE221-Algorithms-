{
 "cells": [
  {
   "cell_type": "code",
   "execution_count": 2,
   "metadata": {},
   "outputs": [
    {
     "name": "stdout",
     "output_type": "stream",
     "text": [
      "...\n",
      "...\n",
      "...\n",
      "...\n",
      "...\n"
     ]
    }
   ],
   "source": [
    "f=open(\"input2.txt\",\"r\")\n",
    "f1=open(\"output2.txt\",\"w\")\n",
    "f.readline()\n",
    "lst=list(map(int,f.readline().split()))\n",
    "def bubbleSort(arr):\n",
    "    flag=True\n",
    "    for i in range(len(arr)-1):\n",
    "        for j in range(0,len(arr)-i-1):\n",
    "            #print(arr[j],arr[j+1])\n",
    "            print(\"...\")\n",
    "            if arr[j] > arr[j+1]:\n",
    "                arr[j], arr[j+1] = arr[j+1], arr[j]\n",
    "                flag=False\n",
    "            #print(arr)\n",
    "        if i==0 and flag==True:\n",
    "            break\n",
    "\n",
    "    f1.write(\" \".join(map(str,lst)))\n",
    "\n",
    "bubbleSort(lst)\n",
    "            "
   ]
  },
  {
   "cell_type": "code",
   "execution_count": 3,
   "metadata": {},
   "outputs": [
    {
     "name": "stdout",
     "output_type": "stream",
     "text": [
      "...\n",
      "...\n",
      "...\n",
      "...\n",
      "...\n",
      "...\n",
      "...\n",
      "...\n",
      "...\n",
      "...\n",
      "...\n",
      "...\n",
      "...\n",
      "...\n",
      "...\n"
     ]
    }
   ],
   "source": [
    "f=open(\"input2.txt\",\"r\")\n",
    "f1=open(\"output2.txt\",\"w\")\n",
    "f.readline()\n",
    "lst=list(map(int,f.readline().split()))\n",
    "def bubbleSort(arr):\n",
    "    flag=True\n",
    "    for i in range(len(arr)-1):\n",
    "        for j in range(0,len(arr)-i-1):\n",
    "            #print(arr[j],arr[j+1])\n",
    "            print(\"...\")\n",
    "            if arr[j] > arr[j+1]:\n",
    "                arr[j], arr[j+1] = arr[j+1], arr[j]\n",
    "                flag=False\n",
    "            #print(arr)\n",
    "    f1.write(\" \".join(map(str,lst)))\n",
    "\n",
    "bubbleSort(lst)\n",
    "            "
   ]
  }
 ],
 "metadata": {
  "kernelspec": {
   "display_name": "Python 3",
   "language": "python",
   "name": "python3"
  },
  "language_info": {
   "codemirror_mode": {
    "name": "ipython",
    "version": 3
   },
   "file_extension": ".py",
   "mimetype": "text/x-python",
   "name": "python",
   "nbconvert_exporter": "python",
   "pygments_lexer": "ipython3",
   "version": "3.11.1"
  },
  "orig_nbformat": 4
 },
 "nbformat": 4,
 "nbformat_minor": 2
}

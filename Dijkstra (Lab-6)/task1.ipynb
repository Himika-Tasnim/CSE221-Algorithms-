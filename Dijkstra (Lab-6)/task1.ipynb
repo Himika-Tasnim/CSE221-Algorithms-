{
 "cells": [
  {
   "cell_type": "code",
   "execution_count": 1,
   "metadata": {},
   "outputs": [
    {
     "name": "stdout",
     "output_type": "stream",
     "text": [
      "[(2, 4)]\n",
      "[(4, 5)]\n",
      "[(5, 1), (14, 2)]\n",
      "[(8, 2), (14, 2)]\n",
      "[(14, 2)]\n",
      "[]\n"
     ]
    }
   ],
   "source": [
    "import heapq\n",
    "\n",
    "def adjacency_list(vertex,edge):\n",
    "    adj_list=[]\n",
    "    for i in range(vertex+1):\n",
    "        adj_list.append([])\n",
    "    for i in range(edge):\n",
    "        x=list(map(int,inp.readline().split()))\n",
    "        adj_list[x[0]].append((x[1],x[2]))\n",
    "    return adj_list\n",
    "\n",
    "def dijkstra(adj_list,src,heap,distance,visited):\n",
    "    lst=adj_list[src]\n",
    "    visited[src]=True\n",
    "    for j in range(len(lst)):\n",
    "        if visited[lst[j][0]]==False and distance[lst[j][0]]>(lst[j][1]+distance[src]):\n",
    "            distance[lst[j][0]]=lst[j][1]+distance[src]\n",
    "            heapq.heappush(heap,(distance[lst[j][0]],lst[j][0]))\n",
    "\n",
    "    return distance  \n",
    "      \n",
    "\n",
    "\n",
    "inp=open(\"input1.txt\",\"r\")\n",
    "out=open(\"output1.txt\",\"w\")\n",
    "arr=list(map(int,inp.readline().split()))\n",
    "adj=adjacency_list(arr[0],arr[1])\n",
    "src=inp.readline()\n",
    "src=int(src)\n",
    "\n",
    "\n",
    "heap=[(0,src)]\n",
    "heapq.heapify(heap)\n",
    "distance=[999999]*(arr[0]+1)\n",
    "visited=[False]*(arr[0]+1)\n",
    "distance[src]=0\n",
    "visited[src]=True\n",
    "while len(heap)>0:\n",
    "    src=heapq.heappop(heap)[1]\n",
    "    distance=dijkstra(adj,src,heap,distance,visited)\n",
    "    print(heap)\n",
    "#print(distance)\n",
    "\n",
    "\n",
    "for i in range(1,len(distance)):\n",
    "   if distance[i]!=999999:\n",
    "       out.write(str(distance[i])+\" \")\n",
    "   else:\n",
    "       out.write(\"-1\"+\" \")\n",
    "inp.close()\n",
    "out.close()"
   ]
  }
 ],
 "metadata": {
  "kernelspec": {
   "display_name": "Python 3",
   "language": "python",
   "name": "python3"
  },
  "language_info": {
   "codemirror_mode": {
    "name": "ipython",
    "version": 3
   },
   "file_extension": ".py",
   "mimetype": "text/x-python",
   "name": "python",
   "nbconvert_exporter": "python",
   "pygments_lexer": "ipython3",
   "version": "3.11.1"
  },
  "orig_nbformat": 4
 },
 "nbformat": 4,
 "nbformat_minor": 2
}

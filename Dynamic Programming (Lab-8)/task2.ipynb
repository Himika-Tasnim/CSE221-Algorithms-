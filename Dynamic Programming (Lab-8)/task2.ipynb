{
 "cells": [
  {
   "cell_type": "code",
   "execution_count": null,
   "metadata": {},
   "outputs": [],
   "source": [
    "def step_counting(stair,lst):\n",
    "    if lst[stair]==None:\n",
    "      lst[stair]=step_counting(stair-1,lst)+step_counting(stair-2,lst)\n",
    "    return lst[stair]\n",
    " \n",
    "\n",
    "inp=open(\"input2.txt\",\"r\")\n",
    "out=open(\"output2.txt\",\"w\")\n",
    "stair=int(inp.readline())\n",
    "lst=[None]*(stair+1)\n",
    "lst[1]=1\n",
    "lst[2]=2\n",
    "x=str(step_counting(stair,lst))\n",
    "out.write(x)\n",
    "inp.close()\n",
    "out.close()"
   ]
  }
 ],
 "metadata": {
  "language_info": {
   "name": "python"
  },
  "orig_nbformat": 4
 },
 "nbformat": 4,
 "nbformat_minor": 2
}

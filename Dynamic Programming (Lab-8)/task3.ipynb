{
 "cells": [
  {
   "cell_type": "code",
   "execution_count": 1,
   "metadata": {},
   "outputs": [],
   "source": [
    "def min_coin(target,coins):\n",
    "  table=[0]*(len(coins)+1)\n",
    "  for i in range(len(table)):\n",
    "    table[i]=[99999]*(target+1)\n",
    "    table[i][0]=0\n",
    "        \n",
    "    \n",
    "  for j in range(1,len(table)):\n",
    "    c=coins[j-1]\n",
    "    for k in range(1,len(table[j])):\n",
    "        if k>=c and table[j][k-c]+1<table[j-1][k]:\n",
    "           table[j][k]=table[j][k-c]+1\n",
    "        else:\n",
    "           table[j][k]=table[j-1][k]\n",
    "  return table[-1][-1]\n",
    "\n",
    "inp=open(\"input3.txt\",\"r\")\n",
    "out=open(\"output3.txt\",\"w\")\n",
    "lst=list(map(int,inp.readline().split()))\n",
    "coins=[0]+list(map(int,inp.readline().split()))\n",
    "out.write(str(min_coin(lst[1],coins)))\n",
    "inp.close()\n",
    "out.close()"
   ]
  }
 ],
 "metadata": {
  "kernelspec": {
   "display_name": "Python 3",
   "language": "python",
   "name": "python3"
  },
  "language_info": {
   "codemirror_mode": {
    "name": "ipython",
    "version": 3
   },
   "file_extension": ".py",
   "mimetype": "text/x-python",
   "name": "python",
   "nbconvert_exporter": "python",
   "pygments_lexer": "ipython3",
   "version": "3.11.1"
  },
  "orig_nbformat": 4
 },
 "nbformat": 4,
 "nbformat_minor": 2
}

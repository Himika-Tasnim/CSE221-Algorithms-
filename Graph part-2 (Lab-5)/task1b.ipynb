{
 "cells": [
  {
   "cell_type": "code",
   "execution_count": 15,
   "metadata": {},
   "outputs": [],
   "source": [
    "def kahns_algo(vertex,edge):\n",
    "  lst=[]\n",
    "  in_deg=[0]*(vertex+1)\n",
    "  for i in range(vertex+1):\n",
    "    lst.append([])\n",
    "  for j in range(edge):\n",
    "    temp=list(map(int,inp.readline().split()))\n",
    "    row=temp[0]\n",
    "    col=temp[1]\n",
    "    lst[row].append(col)\n",
    "    in_deg[col]+=1\n",
    "\n",
    "  in_deg[0]=None\n",
    "  \n",
    "  queue=[]\n",
    "  for k in range(len(in_deg)):\n",
    "    if in_deg[k]==0:\n",
    "      queue.append(k)\n",
    "\n",
    "  travarsal=[]\n",
    "  while len(queue)!=0:\n",
    "    x=queue[0]\n",
    "    for i in (lst[x]):\n",
    "      if in_deg[i]>1:\n",
    "        in_deg[i]-=1\n",
    "      else:\n",
    "        queue.append(i)\n",
    "    travarsal.append(x)\n",
    "    queue.pop(0)\n",
    "  return travarsal\n",
    "\n",
    "inp=open(\"input1b.txt\",\"r\")\n",
    "out=open(\"output1b.txt\",\"w\")\n",
    "\n",
    "arr=list(map(int,inp.readline().split()))\n",
    "x=kahns_algo(arr[0],arr[1])\n",
    "if len(x)==arr[0]:\n",
    "  for i in range(len(x)):\n",
    "    k=str(x[i])+\" \"\n",
    "    out.write(k)\n",
    "else:\n",
    "    out.write(\"IMPOSSIBLE\")\n",
    "inp.close()\n",
    "out.close()\n",
    "\n"
   ]
  }
 ],
 "metadata": {
  "kernelspec": {
   "display_name": "Python 3",
   "language": "python",
   "name": "python3"
  },
  "language_info": {
   "codemirror_mode": {
    "name": "ipython",
    "version": 3
   },
   "file_extension": ".py",
   "mimetype": "text/x-python",
   "name": "python",
   "nbconvert_exporter": "python",
   "pygments_lexer": "ipython3",
   "version": "3.11.1"
  },
  "orig_nbformat": 4
 },
 "nbformat": 4,
 "nbformat_minor": 2
}

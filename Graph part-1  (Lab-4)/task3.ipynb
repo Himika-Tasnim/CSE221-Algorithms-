{
 "cells": [
  {
   "cell_type": "code",
   "execution_count": 4,
   "metadata": {},
   "outputs": [
    {
     "name": "stdout",
     "output_type": "stream",
     "text": [
      "[[], [2, 3, 8, 10], [5], [9, 7], [6, 7, 8], [], [8], [], [], [11], [4, 11], []]\n",
      "1 \n",
      "2 \n",
      "5 \n",
      "3 \n",
      "9 \n",
      "11 \n",
      "7 \n",
      "8 \n",
      "10 \n",
      "4 \n",
      "6 \n"
     ]
    }
   ],
   "source": [
    "def adjacency_list(vertex,edge):\n",
    "  adj_list=[]\n",
    "  for i in range(vertex+1):\n",
    "    adj_list.append([])\n",
    "  for j in range(edge):\n",
    "    temp=list(map(int,inp.readline().split()))\n",
    "    row=temp[0]\n",
    "    col=temp[1]\n",
    "    adj_list[row].append(col)\n",
    "  return adj_list\n",
    "\n",
    "def DFS(adj_list,source,visited):\n",
    "  visited[source]=True\n",
    "  x=str(source)+\" \"\n",
    "  print(x)\n",
    "  out.write(x)\n",
    "\n",
    "  for i in adj_list[source]:\n",
    "    if visited[i]==False:\n",
    "      DFS(adj_list,i,visited)\n",
    "\n",
    "\n",
    "inp=open(\"input3.txt\",\"r\")\n",
    "out=open(\"output3.txt\",\"w\")\n",
    "\n",
    "arr=list(map(int,inp.readline().split()))\n",
    "x=adjacency_list(arr[0],arr[1])\n",
    "print(x)\n",
    "DFS(x,1,[False]*(arr[0]+1))\n",
    "inp.close()\n",
    "out.close()\n",
    "\n"
   ]
  }
 ],
 "metadata": {
  "kernelspec": {
   "display_name": "Python 3",
   "language": "python",
   "name": "python3"
  },
  "language_info": {
   "codemirror_mode": {
    "name": "ipython",
    "version": 3
   },
   "file_extension": ".py",
   "mimetype": "text/x-python",
   "name": "python",
   "nbconvert_exporter": "python",
   "pygments_lexer": "ipython3",
   "version": "3.11.1"
  },
  "orig_nbformat": 4
 },
 "nbformat": 4,
 "nbformat_minor": 2
}

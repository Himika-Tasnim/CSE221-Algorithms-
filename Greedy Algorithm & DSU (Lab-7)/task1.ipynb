{
 "cells": [
  {
   "cell_type": "code",
   "execution_count": 11,
   "metadata": {},
   "outputs": [],
   "source": [
    "inp=open(\"input1.txt\",\"r\")\n",
    "out=open(\"output1.txt\",\"w\")\n",
    "t=inp.readline()\n",
    "arr=[]\n",
    "\n",
    "for i in range(int(t)):\n",
    "    temp=list(map(int,inp.readline().split()))\n",
    "    arr.append(temp)\n",
    "arr.sort(key=lambda x:x[1])\n",
    "\n",
    "\n",
    "result=[arr[0]]\n",
    "prev_end=arr[0][1]\n",
    "new_start=0\n",
    "\n",
    "for i in range(1,len(arr)):\n",
    "    new_start=arr[i][0]\n",
    "    if new_start>=prev_end:\n",
    "        result.append(arr[i])\n",
    "        prev_end=arr[i][1]\n",
    "\n",
    "for j in result:\n",
    "    temp=\"\"\n",
    "    for k in j:\n",
    "        temp+=str(k)+\" \"\n",
    "    out.write(temp+\"\\n\")\n",
    "\n",
    "inp.close()\n",
    "out.close()"
   ]
  }
 ],
 "metadata": {
  "kernelspec": {
   "display_name": "Python 3",
   "language": "python",
   "name": "python3"
  },
  "language_info": {
   "codemirror_mode": {
    "name": "ipython",
    "version": 3
   },
   "file_extension": ".py",
   "mimetype": "text/x-python",
   "name": "python",
   "nbconvert_exporter": "python",
   "pygments_lexer": "ipython3",
   "version": "3.11.1"
  },
  "orig_nbformat": 4
 },
 "nbformat": 4,
 "nbformat_minor": 2
}

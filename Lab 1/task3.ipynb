{
 "cells": [
  {
   "cell_type": "code",
   "execution_count": 5,
   "metadata": {},
   "outputs": [],
   "source": [
    "f=open(\"input3.txt\",\"r\")\n",
    "f1=open(\"output3.txt\",\"w\")\n",
    "length=int(f.readline())\n",
    "id=list(map(int,f.readline().split()))\n",
    "mark=list(map(int,f.readline().split()))\n",
    "for i in range(len(mark)):\n",
    "    max_index = i\n",
    "    for j in range(i+1, len(mark)):\n",
    "        if mark[max_index] < mark[j]:\n",
    "            max_index = j\n",
    "        elif mark[max_index] == mark[j]:\n",
    "            if id[max_index] > id[j]:\n",
    "                max_index = j\n",
    "\n",
    "    mark[max_index], mark[i] = mark[i], mark[max_index]\n",
    "    id[max_index], id[i] = id[i], id[max_index]\n",
    "    f1.write(f\"ID: {id[i]} Mark: {mark[i]}\\n\")\n",
    "\n",
    "f.close()\n",
    "f1.close()"
   ]
  }
 ],
 "metadata": {
  "kernelspec": {
   "display_name": "Python 3",
   "language": "python",
   "name": "python3"
  },
  "language_info": {
   "codemirror_mode": {
    "name": "ipython",
    "version": 3
   },
   "file_extension": ".py",
   "mimetype": "text/x-python",
   "name": "python",
   "nbconvert_exporter": "python",
   "pygments_lexer": "ipython3",
   "version": "3.11.1"
  },
  "orig_nbformat": 4
 },
 "nbformat": 4,
 "nbformat_minor": 2
}

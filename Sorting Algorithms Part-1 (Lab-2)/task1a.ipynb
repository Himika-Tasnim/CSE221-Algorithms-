{
 "cells": [
  {
   "cell_type": "code",
   "execution_count": 28,
   "metadata": {},
   "outputs": [],
   "source": [
    "f=open(\"input1a.txt\",\"r\")\n",
    "f1=open(\"output1a.txt\",\"w\")\n",
    "\n",
    "lst=f.readline().split()\n",
    "sum=int(lst[1])\n",
    "arr=list(map(int,f.readline().split()))\n",
    "\n",
    "def sum_search(arr):\n",
    "    for i in range(len(arr)-1):\n",
    "        for j in range(i+1,len(arr)):\n",
    "            if arr[i]+arr[j]==sum:\n",
    "                return (str(i+1)+\" \"+str(j+1))\n",
    "    return \"IMPOSSIBLE\"\n",
    "\n",
    "\n",
    "x=sum_search(arr)\n",
    "\n",
    "f1.write(x)\n",
    "\n",
    "f.close()\n",
    "f1.close()"
   ]
  }
 ],
 "metadata": {
  "kernelspec": {
   "display_name": "Python 3",
   "language": "python",
   "name": "python3"
  },
  "language_info": {
   "codemirror_mode": {
    "name": "ipython",
    "version": 3
   },
   "file_extension": ".py",
   "mimetype": "text/x-python",
   "name": "python",
   "nbconvert_exporter": "python",
   "pygments_lexer": "ipython3",
   "version": "3.11.1"
  },
  "orig_nbformat": 4
 },
 "nbformat": 4,
 "nbformat_minor": 2
}

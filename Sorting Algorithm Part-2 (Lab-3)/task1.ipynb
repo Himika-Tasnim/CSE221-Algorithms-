{
 "cells": [
  {
   "cell_type": "code",
   "execution_count": 7,
   "metadata": {},
   "outputs": [],
   "source": [
    "count=0\n",
    "def counting(lst1,lst2):\n",
    "  f=len(lst1)+len(lst2)\n",
    "  lst1.append(100000)\n",
    "  lst2.append(100000)\n",
    "  final=[]\n",
    "  i=0\n",
    "  j=0\n",
    "  global count\n",
    "  for x in range(f):\n",
    "    if lst1[i]<lst2[j]:\n",
    "      final.append(lst1[i])\n",
    "      i+=1\n",
    "    else:\n",
    "      final.append(lst2[j])\n",
    "      if lst1[i]!=100000:\n",
    "        count+=len(lst1)-1-i\n",
    "        #print(lst1[i],lst2[j])\n",
    "      j+=1\n",
    "\n",
    "  return final\n",
    "\n",
    "def dividing(arr):\n",
    "  if len(arr) <= 1:\n",
    "    return arr\n",
    "  else:\n",
    "    mid = len(arr)//2\n",
    "    a1 = dividing(arr[:mid])  # write the parameter\n",
    "    a2 = dividing(arr[mid:])  # write the parameter\n",
    "    return counting(a1, a2)\n",
    "\n",
    "inp=open(\"input1.txt\",\"r\")\n",
    "out=open(\"output1.txt\",\"w\")\n",
    "inp.readline()\n",
    "arr=list(map(int,inp.readline().split()))\n",
    "dividing(arr)\n",
    "count=str(count)\n",
    "out.write(count)\n",
    "inp.close()\n",
    "out.close()"
   ]
  }
 ],
 "metadata": {
  "kernelspec": {
   "display_name": "Python 3",
   "language": "python",
   "name": "python3"
  },
  "language_info": {
   "codemirror_mode": {
    "name": "ipython",
    "version": 3
   },
   "file_extension": ".py",
   "mimetype": "text/x-python",
   "name": "python",
   "nbconvert_exporter": "python",
   "pygments_lexer": "ipython3",
   "version": "3.11.1"
  },
  "orig_nbformat": 4
 },
 "nbformat": 4,
 "nbformat_minor": 2
}

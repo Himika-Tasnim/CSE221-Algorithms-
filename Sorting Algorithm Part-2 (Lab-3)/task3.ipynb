{
 "cells": [
  {
   "cell_type": "code",
   "execution_count": 18,
   "metadata": {},
   "outputs": [],
   "source": [
    "\n",
    "def quick_sort(arr,low,high):\n",
    "  if len(arr)==1:\n",
    "    return arr\n",
    "  while low<high:\n",
    "    x=partition(arr,low,high)\n",
    "    quick_sort(arr,low,x-1)\n",
    "    quick_sort(arr,x+1,high)\n",
    "    return arr\n",
    "\n",
    "def partition(arr,low,high):\n",
    "  i=low+1\n",
    "  j=high\n",
    "  while True:\n",
    "    while i<high:\n",
    "      if arr[i]>=arr[low]:\n",
    "        break\n",
    "      i+=1\n",
    "    while j>low:\n",
    "      if arr[j]<arr[low]:\n",
    "        break\n",
    "      j-=1\n",
    "    if i<j:\n",
    "      arr[i],arr[j]=arr[j],arr[i]\n",
    "    else:\n",
    "      arr[j],arr[low]=arr[low],arr[j]\n",
    "      break\n",
    "    \n",
    "  return j\n",
    "\n",
    "inp=open(\"input3.txt\",\"r\")\n",
    "out=open(\"output3.txt\",\"w\")\n",
    "inp.readline()\n",
    "arr=list(map(int,inp.readline().split()))\n",
    "final=list(map(str,quick_sort(arr,0,len(arr)-1)))\n",
    "final=\" \".join(final)\n",
    "out.write(final)\n",
    "inp.close()\n",
    "out.close()"
   ]
  }
 ],
 "metadata": {
  "kernelspec": {
   "display_name": "Python 3",
   "language": "python",
   "name": "python3"
  },
  "language_info": {
   "codemirror_mode": {
    "name": "ipython",
    "version": 3
   },
   "file_extension": ".py",
   "mimetype": "text/x-python",
   "name": "python",
   "nbconvert_exporter": "python",
   "pygments_lexer": "ipython3",
   "version": "3.11.1"
  },
  "orig_nbformat": 4
 },
 "nbformat": 4,
 "nbformat_minor": 2
}

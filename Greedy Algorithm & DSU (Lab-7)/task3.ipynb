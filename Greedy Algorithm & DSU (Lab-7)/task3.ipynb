{
 "cells": [
  {
   "cell_type": "code",
   "execution_count": 23,
   "metadata": {},
   "outputs": [],
   "source": [
    "def make_set(vertex):\n",
    "    parent[vertex]=vertex\n",
    "    size[vertex]=1\n",
    "\n",
    "def find_parent(vertex):\n",
    "    if parent[vertex]==vertex:\n",
    "        return vertex\n",
    "    parent[vertex] = find_parent(parent[vertex])\n",
    "    return parent[vertex]\n",
    "\n",
    "def union_set(x,y):\n",
    "    x=find_parent(x)\n",
    "    y=find_parent(y)\n",
    "    if x!=y:\n",
    "        if size[x]<size[y]:\n",
    "            temp=x\n",
    "            x=y\n",
    "            y=temp\n",
    "\n",
    "        parent[y]=x\n",
    "        size[x]+=size[y]\n",
    "    out.write(str(size[x])+\"\\n\")\n",
    "\n",
    "\n",
    "\n",
    "inp=open(\"input3.txt\",\"r\")\n",
    "out=open(\"output3.txt\",\"w\")\n",
    "t=list(map(int,inp.readline().split()))  \n",
    "\n",
    "parent=[0]*(t[0]+1)\n",
    "size=[0]*(t[0]+1)\n",
    "\n",
    "for k in range(1,t[0]+1):\n",
    "    make_set(k)\n",
    "\n",
    "for i in range(t[1]):\n",
    "    lst=list(map(int,inp.readline().split())) \n",
    "    union_set(lst[0],lst[1])\n",
    "\n",
    "\n"
   ]
  }
 ],
 "metadata": {
  "kernelspec": {
   "display_name": "Python 3",
   "language": "python",
   "name": "python3"
  },
  "language_info": {
   "codemirror_mode": {
    "name": "ipython",
    "version": 3
   },
   "file_extension": ".py",
   "mimetype": "text/x-python",
   "name": "python",
   "nbconvert_exporter": "python",
   "pygments_lexer": "ipython3",
   "version": "3.11.1"
  },
  "orig_nbformat": 4
 },
 "nbformat": 4,
 "nbformat_minor": 2
}

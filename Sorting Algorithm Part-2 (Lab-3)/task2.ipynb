{
 "cells": [
  {
   "cell_type": "code",
   "execution_count": 4,
   "metadata": {},
   "outputs": [],
   "source": [
    "def best_sum(arr):\n",
    "  if len(arr)==1:\n",
    "    return -99999999\n",
    "  elif len(arr)==2:\n",
    "    return arr[0]+arr[1]*arr[1]\n",
    "  else:\n",
    "    mid=len(arr)//2\n",
    "    lss=best_sum(arr[:mid])\n",
    "    rss=best_sum(arr[mid:])\n",
    "    a1=arr[:mid]\n",
    "    x=a1[0]\n",
    "    for i in range(1,len(a1)):\n",
    "      if a1[i]>x:\n",
    "        x=a1[i]\n",
    "\n",
    "    a2=arr[mid:]\n",
    "    y=a2[0]*a2[0]\n",
    "    for i in range(1,len(a2)):\n",
    "      if a2[i]*a2[i]>y:\n",
    "        y=a2[i]*a2[i]\n",
    "    css=x+y\n",
    "    return max(lss,rss,css)\n",
    "  \n",
    "\n",
    "inp=open(\"input2.txt\",\"r\")\n",
    "out=open(\"output2.txt\",\"w\")\n",
    "inp.readline()\n",
    "arr=list(map(int,inp.readline().split()))\n",
    "sum=str(best_sum(arr))\n",
    "out.write(sum)\n",
    "inp.close()\n",
    "out.close()\n"
   ]
  }
 ],
 "metadata": {
  "kernelspec": {
   "display_name": "Python 3",
   "language": "python",
   "name": "python3"
  },
  "language_info": {
   "codemirror_mode": {
    "name": "ipython",
    "version": 3
   },
   "file_extension": ".py",
   "mimetype": "text/x-python",
   "name": "python",
   "nbconvert_exporter": "python",
   "pygments_lexer": "ipython3",
   "version": "3.11.1"
  },
  "orig_nbformat": 4
 },
 "nbformat": 4,
 "nbformat_minor": 2
}

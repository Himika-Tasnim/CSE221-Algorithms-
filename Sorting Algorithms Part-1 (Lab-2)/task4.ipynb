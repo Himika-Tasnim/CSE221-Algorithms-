{
 "cells": [
  {
   "cell_type": "code",
   "execution_count": 1,
   "metadata": {},
   "outputs": [],
   "source": [
    "\n",
    "def merge(max1,max2):\n",
    "  #print(max1,max2)\n",
    "  if max1>max2:\n",
    "    return max1\n",
    "  else:\n",
    "    return max2\n",
    "\n",
    "\n",
    "def max_finding(arr):\n",
    "  if len(arr) == 1:\n",
    "    return arr[0]\n",
    "  elif len(arr)<1:\n",
    "    return -9999999\n",
    "  else:\n",
    "    mid = len(arr)//2\n",
    "    first_max = max_finding(arr[:mid])  \n",
    "    second_max = max_finding(arr[mid:])  \n",
    "    return merge(first_max,second_max)\n",
    "\n",
    "\n",
    "inp=open(\"input4.txt\",\"r\")\n",
    "out=open(\"output4.txt\",\"w\")\n",
    "inp.readline()\n",
    "arr=list(map(int,inp.readline().split()))\n",
    "\n",
    "x=str(max_finding(arr))\n",
    "\n",
    "out.write(x)\n",
    "\n",
    "inp.close()\n",
    "out.close()"
   ]
  }
 ],
 "metadata": {
  "kernelspec": {
   "display_name": "Python 3",
   "language": "python",
   "name": "python3"
  },
  "language_info": {
   "codemirror_mode": {
    "name": "ipython",
    "version": 3
   },
   "file_extension": ".py",
   "mimetype": "text/x-python",
   "name": "python",
   "nbconvert_exporter": "python",
   "pygments_lexer": "ipython3",
   "version": "3.11.1"
  },
  "orig_nbformat": 4
 },
 "nbformat": 4,
 "nbformat_minor": 2
}

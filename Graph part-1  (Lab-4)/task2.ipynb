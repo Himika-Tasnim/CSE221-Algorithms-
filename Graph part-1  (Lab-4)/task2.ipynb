{
 "cells": [
  {
   "cell_type": "code",
   "execution_count": 12,
   "metadata": {},
   "outputs": [],
   "source": [
    "def adjacency_list(vertex,edge):\n",
    "  adj_list=[]\n",
    "  for i in range(vertex+1):\n",
    "    adj_list.append([])\n",
    "  for j in range(edge):\n",
    "    temp=list(map(int,inp.readline().split()))\n",
    "    row=temp[0]\n",
    "    col=temp[1]\n",
    "    adj_list[row].append(col)\n",
    "  return adj_list\n",
    "\n",
    "def BFS(adj_list,source,vertex):\n",
    "  visited=[False]*(vertex+1)\n",
    "  queue=[source]\n",
    "  visited[source]=True\n",
    "  path=[]\n",
    "\n",
    "  while len(queue)!=0:\n",
    "    for i in (adj_list[queue[0]]):\n",
    "      if visited[i]==False:\n",
    "        queue.append(i)\n",
    "        visited[i]=True\n",
    "    path.append(queue[0])\n",
    "    queue.pop(0)\n",
    "\n",
    "  return path\n",
    "\n",
    "inp=open(\"input2.txt\",\"r\")\n",
    "out=open(\"output2.txt\",\"w\")\n",
    "\n",
    "arr=list(map(int,inp.readline().split()))\n",
    "adj_list=adjacency_list(arr[0],arr[1])\n",
    "path=BFS(adj_list,1,arr[0])\n",
    "for i in range(len(path)):\n",
    "  k=str(path[i])+\" \"\n",
    "  out.write(k)\n",
    "inp.close()\n",
    "out.close()\n",
    "\n"
   ]
  }
 ],
 "metadata": {
  "kernelspec": {
   "display_name": "Python 3",
   "language": "python",
   "name": "python3"
  },
  "language_info": {
   "codemirror_mode": {
    "name": "ipython",
    "version": 3
   },
   "file_extension": ".py",
   "mimetype": "text/x-python",
   "name": "python",
   "nbconvert_exporter": "python",
   "pygments_lexer": "ipython3",
   "version": "3.11.1"
  },
  "orig_nbformat": 4
 },
 "nbformat": 4,
 "nbformat_minor": 2
}

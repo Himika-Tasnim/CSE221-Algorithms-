{
 "cells": [
  {
   "cell_type": "code",
   "execution_count": 2,
   "metadata": {},
   "outputs": [],
   "source": [
    "f=open(\"input1a.txt\",\"r\")\n",
    "f1=open(\"output1a.txt\",\"w\")\n",
    "test=int(f.readline())\n",
    "for i in range(test):\n",
    "    x=int(f.readline())\n",
    "    if x%2==0:\n",
    "        f1.write(f\"{x} is an Even number\\n\")\n",
    "    else:\n",
    "         f1.write(f\"{x} is an Odd number\\n\")"
   ]
  }
 ],
 "metadata": {
  "kernelspec": {
   "display_name": "Python 3",
   "language": "python",
   "name": "python3"
  },
  "language_info": {
   "codemirror_mode": {
    "name": "ipython",
    "version": 3
   },
   "file_extension": ".py",
   "mimetype": "text/x-python",
   "name": "python",
   "nbconvert_exporter": "python",
   "pygments_lexer": "ipython3",
   "version": "3.11.1"
  },
  "orig_nbformat": 4
 },
 "nbformat": 4,
 "nbformat_minor": 2
}

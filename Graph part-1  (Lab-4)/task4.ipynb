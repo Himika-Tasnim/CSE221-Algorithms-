{
 "cells": [
  {
   "cell_type": "code",
   "execution_count": 24,
   "metadata": {},
   "outputs": [],
   "source": [
    "def adjacency_list(vertex,edge):\n",
    "  adj_list=[]\n",
    "  for i in range(vertex+1):\n",
    "    adj_list.append([])\n",
    "  for j in range(edge):\n",
    "    temp=list(map(int,inp.readline().split()))\n",
    "    row=temp[0]\n",
    "    col=temp[1]\n",
    "    adj_list[row].append(col)\n",
    "  return adj_list\n",
    "\n",
    "result=\"NO\"\n",
    "def detect_cycle(lst,source,visited):\n",
    "  global result\n",
    "  if visited[source]==True:\n",
    "    result=\"YES\"\n",
    "  else:\n",
    "    visited[source]=True\n",
    "    for i in lst[source]:\n",
    "      detect_cycle(lst,i,visited)\n",
    "      visited[i]=False\n",
    "  return result\n",
    "\n",
    "inp=open(\"input4.txt\",\"r\")\n",
    "out=open(\"output4.txt\",\"w\")\n",
    "\n",
    "array=list(map(int,inp.readline().split()))\n",
    "adj_list=adjacency_list(array[0],array[1])\n",
    "cycle=detect_cycle(adj_list,1,[False]*(array[0]+1))\n",
    "out.write(cycle)\n",
    "inp.close()\n",
    "out.close()\n",
    "\n"
   ]
  }
 ],
 "metadata": {
  "kernelspec": {
   "display_name": "Python 3",
   "language": "python",
   "name": "python3"
  },
  "language_info": {
   "codemirror_mode": {
    "name": "ipython",
    "version": 3
   },
   "file_extension": ".py",
   "mimetype": "text/x-python",
   "name": "python",
   "nbconvert_exporter": "python",
   "pygments_lexer": "ipython3",
   "version": "3.11.1"
  },
  "orig_nbformat": 4
 },
 "nbformat": 4,
 "nbformat_minor": 2
}

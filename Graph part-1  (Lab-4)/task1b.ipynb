{
 "cells": [
  {
   "cell_type": "code",
   "execution_count": 3,
   "metadata": {},
   "outputs": [],
   "source": [
    "def adjacency_list(vertex,edge):\n",
    "  adj_list=[]\n",
    "  for i in range(vertex+1):\n",
    "   adj_list.append([])\n",
    "  for j in range(edge):\n",
    "    temp=list(map(int,inp.readline().split()))\n",
    "    row=temp[0]\n",
    "    col=temp[1]\n",
    "    w=temp[2]\n",
    "    tup=(col,w)\n",
    "    adj_list[row].append(tup)\n",
    "    \n",
    "  for k in range(len(adj_list)):\n",
    "    x=f\"{str(k)} : \"\n",
    "    out.write(x)\n",
    "    for j in adj_list[k]:\n",
    "      y=f\"{str(j)} \"\n",
    "      out.write(y)\n",
    "    out.write(\"\\n\")\n",
    "\n",
    "\n",
    "inp=open(\"input1b.txt\",\"r\")\n",
    "out=open(\"output1b.txt\",\"w\")\n",
    "array=list(map(int,inp.readline().split()))\n",
    "adjacency_list(array[0],array[1])\n",
    "inp.close()\n",
    "out.close()"
   ]
  }
 ],
 "metadata": {
  "kernelspec": {
   "display_name": "Python 3",
   "language": "python",
   "name": "python3"
  },
  "language_info": {
   "codemirror_mode": {
    "name": "ipython",
    "version": 3
   },
   "file_extension": ".py",
   "mimetype": "text/x-python",
   "name": "python",
   "nbconvert_exporter": "python",
   "pygments_lexer": "ipython3",
   "version": "3.11.1"
  },
  "orig_nbformat": 4
 },
 "nbformat": 4,
 "nbformat_minor": 2
}

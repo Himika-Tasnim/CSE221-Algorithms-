{
 "cells": [
  {
   "cell_type": "code",
   "execution_count": 6,
   "metadata": {},
   "outputs": [],
   "source": [
    "inp=open(\"input2b.txt\",\"r\")\n",
    "out=open(\"output2b.txt\",\"w\")\n",
    "\n",
    "inp.readline()\n",
    "lst1=list(map(int,inp.readline().split()))\n",
    "inp.readline()\n",
    "lst2=list(map(int,inp.readline().split()))\n",
    "\n",
    "\n",
    "def merge(lst1,lst2):\n",
    "  f=len(lst1)+len(lst2)\n",
    "  lst1.append(100000)\n",
    "  lst2.append(100000)\n",
    "  final=[]\n",
    "  i=0\n",
    "  j=0\n",
    "  for x in range(f):\n",
    "    if lst1[i]<lst2[j]:\n",
    "      final.append(str(lst1[i]))\n",
    "      i+=1\n",
    "    else:\n",
    "      final.append(str(lst2[j]))\n",
    "      j+=1\n",
    "  return final\n",
    "\n",
    "x=\" \".join(merge(lst1,lst2))\n",
    "out.write(x)\n",
    "\n",
    "inp.close()\n",
    "out.close()"
   ]
  }
 ],
 "metadata": {
  "kernelspec": {
   "display_name": "Python 3",
   "language": "python",
   "name": "python3"
  },
  "language_info": {
   "codemirror_mode": {
    "name": "ipython",
    "version": 3
   },
   "file_extension": ".py",
   "mimetype": "text/x-python",
   "name": "python",
   "nbconvert_exporter": "python",
   "pygments_lexer": "ipython3",
   "version": "3.11.1"
  },
  "orig_nbformat": 4
 },
 "nbformat": 4,
 "nbformat_minor": 2
}

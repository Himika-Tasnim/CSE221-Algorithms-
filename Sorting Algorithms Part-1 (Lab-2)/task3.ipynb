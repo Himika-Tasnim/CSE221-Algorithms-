{
 "cells": [
  {
   "cell_type": "code",
   "execution_count": 1,
   "metadata": {},
   "outputs": [],
   "source": [
    "\n",
    "def merge(lst1,lst2):\n",
    "  f=len(lst1)+len(lst2)\n",
    "  lst1.append(10000000)\n",
    "  lst2.append(10000000)\n",
    "  final=[]\n",
    "  i=0\n",
    "  j=0\n",
    "  for x in range(f):\n",
    "    if lst1[i]<lst2[j]:\n",
    "      final.append(lst1[i])\n",
    "      i+=1\n",
    "    else:\n",
    "      final.append(lst2[j])\n",
    "      j+=1\n",
    "\n",
    "  return final\n",
    "\n",
    "def mergeSort(arr):\n",
    "  if len(arr) <= 1:\n",
    "    return arr\n",
    "  else:\n",
    "    mid = len(arr)//2\n",
    "    a1 = mergeSort(arr[:mid])  # write the parameter\n",
    "    a2 = mergeSort(arr[mid:])  # write the parameter\n",
    "    return merge(a1, a2)\n",
    "\n",
    "\n",
    "inp=open(\"input3.txt\",\"r\")\n",
    "out=open(\"output3.txt\",\"w\")\n",
    "inp.readline()\n",
    "arr=list(map(int,inp.readline().split()))\n",
    "\n",
    "x=mergeSort(arr)\n",
    "y=\"\"\n",
    "for temp in x:\n",
    "  y+=str(temp)+\" \"\n",
    "out.write(y)\n",
    "\n",
    "inp.close()\n",
    "out.close()"
   ]
  }
 ],
 "metadata": {
  "kernelspec": {
   "display_name": "Python 3",
   "language": "python",
   "name": "python3"
  },
  "language_info": {
   "codemirror_mode": {
    "name": "ipython",
    "version": 3
   },
   "file_extension": ".py",
   "mimetype": "text/x-python",
   "name": "python",
   "nbconvert_exporter": "python",
   "pygments_lexer": "ipython3",
   "version": "3.11.1"
  },
  "orig_nbformat": 4
 },
 "nbformat": 4,
 "nbformat_minor": 2
}

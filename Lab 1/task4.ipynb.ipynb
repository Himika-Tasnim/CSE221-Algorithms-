{
 "cells": [
  {
   "cell_type": "code",
   "execution_count": 31,
   "metadata": {},
   "outputs": [],
   "source": [
    "f=open(\"input4.txt\",\"r\")\n",
    "f1=open(\"output4.txt\",\"w\")\n",
    "test=int(f.readline())\n",
    "train=[]\n",
    "time=[]\n",
    "place=[]\n",
    "for k in range(test):\n",
    "  inp=list(f.readline().split())\n",
    "  train.append(inp[0])\n",
    "  time.append(inp[-1])\n",
    "  place.append(inp[-3])\n",
    "\n",
    "#print(train)\n",
    "\n",
    "for i in range(len(train)):\n",
    "  x=train[i]\n",
    "  idx=i\n",
    "  for j in range(i+1,len(train)):\n",
    "    y=train[j]\n",
    "    if x!=y:\n",
    "      flag=False\n",
    "      for k in range(min(len(x),len(y))):\n",
    "        if ord(x[k])>ord(y[k]):\n",
    "          x=y\n",
    "          idx=j\n",
    "          flag=True\n",
    "          break\n",
    "        elif ord(x[k])<ord(y[k]):\n",
    "          flag=True\n",
    "          break\n",
    "      if flag==False:\n",
    "        if len(x)>len(y):\n",
    "          x=y\n",
    "          idx=j\n",
    "    else:\n",
    "      temp1=time[idx].split(\":\")\n",
    "      p=int(temp1[0])*60+int(temp1[1])\n",
    "      temp2=time[j].split(\":\")\n",
    "      q=int(temp2[0])*60+int(temp2[1])\n",
    "      if p<q:\n",
    "        idx=j\n",
    "  train[idx],train[i]=train[i],train[idx]\n",
    "  time[idx],time[i]=time[i],time[idx]\n",
    "  place[idx],place[i]=place[i],place[idx]\n",
    "\n",
    "  f1.write(f\"{train[i]} will departure for {place[i]} at {time[i]}\\n\")\n",
    "\n",
    "f.close()\n",
    "f1.close()\n",
    "\n"
   ]
  }
 ],
 "metadata": {
  "kernelspec": {
   "display_name": "Python 3",
   "language": "python",
   "name": "python3"
  },
  "language_info": {
   "codemirror_mode": {
    "name": "ipython",
    "version": 3
   },
   "file_extension": ".py",
   "mimetype": "text/x-python",
   "name": "python",
   "nbconvert_exporter": "python",
   "pygments_lexer": "ipython3",
   "version": "3.11.1"
  },
  "orig_nbformat": 4
 },
 "nbformat": 4,
 "nbformat_minor": 2
}

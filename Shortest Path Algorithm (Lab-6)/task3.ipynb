{
 "cells": [
  {
   "cell_type": "code",
   "execution_count": 5,
   "metadata": {},
   "outputs": [],
   "source": [
    "import heapq\n",
    "\n",
    "def adjacency_list(vertex,edge):\n",
    "    adj_list=[]\n",
    "    for i in range(vertex+1):\n",
    "        adj_list.append([])\n",
    "    for i in range(edge):\n",
    "        x=list(map(int,inp.readline().split()))\n",
    "        adj_list[x[0]].append((x[1],x[2]))\n",
    "    return adj_list\n",
    "\n",
    "def dijkstra(adj_list,src,heap,distance,visited):\n",
    "    lst=adj_list[src]\n",
    "    visited[src]=True\n",
    "    for j in range(len(lst)):\n",
    "        if visited[lst[j][0]]==False and distance[lst[j][0]]>max((lst[j][1],distance[src])):\n",
    "            distance[lst[j][0]]=max((lst[j][1],distance[src]))\n",
    "            heapq.heappush(heap,(distance[lst[j][0]],lst[j][0]))\n",
    "\n",
    "    return distance  \n",
    "      \n",
    "\n",
    "\n",
    "inp=open(\"input3.txt\",\"r\")\n",
    "out=open(\"output3.txt\",\"w\")\n",
    "arr=list(map(int,inp.readline().split()))\n",
    "adj=adjacency_list(arr[0],arr[1])\n",
    "\n",
    "heap=[(0,1)]\n",
    "heapq.heapify(heap)\n",
    "distance=[999999]*(arr[0]+1)\n",
    "visited=[False]*(arr[0]+1)\n",
    "distance[1]=0\n",
    "visited[1]=True\n",
    "while len(heap)>0:\n",
    "    src=heapq.heappop(heap)[1]\n",
    "    distance=dijkstra(adj,src,heap,distance,visited)\n",
    "#print(distance)\n",
    "\n",
    "\n",
    "\n",
    "if distance[-1]!=999999:\n",
    "    out.write(str(distance[-1]))\n",
    "else:\n",
    "    out.write(\"Impossible\")\n",
    "inp.close()\n",
    "out.close()"
   ]
  }
 ],
 "metadata": {
  "kernelspec": {
   "display_name": "Python 3",
   "language": "python",
   "name": "python3"
  },
  "language_info": {
   "codemirror_mode": {
    "name": "ipython",
    "version": 3
   },
   "file_extension": ".py",
   "mimetype": "text/x-python",
   "name": "python",
   "nbconvert_exporter": "python",
   "pygments_lexer": "ipython3",
   "version": "3.11.1"
  },
  "orig_nbformat": 4
 },
 "nbformat": 4,
 "nbformat_minor": 2
}

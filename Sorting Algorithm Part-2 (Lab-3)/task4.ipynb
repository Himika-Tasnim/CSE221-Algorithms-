{
 "cells": [
  {
   "cell_type": "code",
   "execution_count": 11,
   "metadata": {},
   "outputs": [],
   "source": [
    "def partition(arr,low,high):\n",
    "  i=low+1\n",
    "  j=high\n",
    "  while True:\n",
    "    while i<high:\n",
    "      if arr[i]>=arr[low]:\n",
    "        break\n",
    "      i+=1\n",
    "    while j>low:\n",
    "      if arr[j]<arr[low]:\n",
    "        break\n",
    "      j-=1\n",
    "    if i<j:\n",
    "      arr[i],arr[j]=arr[j],arr[i]\n",
    "    else:\n",
    "      arr[j],arr[low]=arr[low],arr[j]\n",
    "      break\n",
    "  if j==query-1:\n",
    "    return arr[j]\n",
    "  elif j<query-1:\n",
    "    return partition(arr,j+1,high)\n",
    "  else:\n",
    "    return partition(arr,low,j-1,)\n",
    "\n",
    "  \n",
    "inp=open(\"input4.txt\",\"r\")\n",
    "out=open(\"output4.txt\",\"w\")\n",
    "inp.readline()\n",
    "arr=list(map(int,inp.readline().split()))\n",
    "x=int(inp.readline())\n",
    "for i in range(x):\n",
    "  query=int(inp.readline())\n",
    "  final=f\"{str(partition(arr,0,len(arr)-1))}\\n\"\n",
    "  out.write(final)\n",
    "inp.close()\n",
    "out.close()"
   ]
  }
 ],
 "metadata": {
  "kernelspec": {
   "display_name": "Python 3",
   "language": "python",
   "name": "python3"
  },
  "language_info": {
   "codemirror_mode": {
    "name": "ipython",
    "version": 3
   },
   "file_extension": ".py",
   "mimetype": "text/x-python",
   "name": "python",
   "nbconvert_exporter": "python",
   "pygments_lexer": "ipython3",
   "version": "3.11.1"
  },
  "orig_nbformat": 4
 },
 "nbformat": 4,
 "nbformat_minor": 2
}

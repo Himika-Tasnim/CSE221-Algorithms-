{
 "cells": [
  {
   "cell_type": "code",
   "execution_count": 1,
   "metadata": {},
   "outputs": [],
   "source": [
    "\n",
    "def adjacency_matrix(vertex,edge):\n",
    "  adj_mat=[0]*(vertex+1)\n",
    "  for i in range(vertex+1):\n",
    "    adj_mat[i]=[0]*(vertex+1)\n",
    "  for j in range(edge):\n",
    "    temp=list(map(int,inp.readline().split()))\n",
    "    row=temp[0]\n",
    "    col=temp[1]\n",
    "    weight=temp[2]\n",
    "    adj_mat[row][col]=weight\n",
    "\n",
    "  for i in range(len(adj_mat)):\n",
    "    for j in adj_mat[i]:\n",
    "      y=str(j)+\" \"\n",
    "      out.write(y)\n",
    "    out.write(\"\\n\")\n",
    "\n",
    "inp=open(\"input1a.txt\",\"r\")\n",
    "out=open(\"output1a.txt\",\"w\")\n",
    "array=list(map(int,inp.readline().split()))\n",
    "adjacency_matrix(array[0],array[1])\n",
    "inp.close()\n",
    "out.close()\n"
   ]
  }
 ],
 "metadata": {
  "kernelspec": {
   "display_name": "Python 3",
   "language": "python",
   "name": "python3"
  },
  "language_info": {
   "codemirror_mode": {
    "name": "ipython",
    "version": 3
   },
   "file_extension": ".py",
   "mimetype": "text/x-python",
   "name": "python",
   "nbconvert_exporter": "python",
   "pygments_lexer": "ipython3",
   "version": "3.11.1"
  },
  "orig_nbformat": 4
 },
 "nbformat": 4,
 "nbformat_minor": 2
}

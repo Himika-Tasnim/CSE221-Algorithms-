{
 "cells": [
  {
   "cell_type": "code",
   "execution_count": 2,
   "metadata": {},
   "outputs": [],
   "source": [
    "inp=open(\"input2.txt\",\"r\")\n",
    "out=open(\"output2.txt\",\"w\")\n",
    "lst=list(map(int,inp.readline().split()))\n",
    "arr=[]\n",
    "\n",
    "for i in range(int(lst[0])):\n",
    "    temp=list(map(int,inp.readline().split()))\n",
    "    arr.append(temp)\n",
    "arr.sort(key=lambda x:x[1])\n",
    "\n",
    "\n",
    "#work=[]\n",
    "ending_time=[]\n",
    "for k in range(lst[1]):\n",
    "    #work.append([(0,0)])\n",
    "    ending_time.append(0)\n",
    "\n",
    "#work[0].append(arr[0])\n",
    "ending_time[0]=arr[0][1]\n",
    "count=1\n",
    "\n",
    "for j in range(1,len(arr)):\n",
    "    min=99999\n",
    "    idx=0\n",
    "    start=arr[j][0]\n",
    "    for k in (range(len(ending_time))):\n",
    "        if start>=ending_time[k] and (start-ending_time[k])<min:\n",
    "            min=start-ending_time[k]\n",
    "            idx=k\n",
    "    if min!=99999:\n",
    "        #work[idx].append(arr[j])\n",
    "        count+=1\n",
    "        ending_time[idx]=arr[j][1]\n",
    "\n",
    "out.write(str(count))\n",
    "inp.close()\n",
    "out.close()"
   ]
  }
 ],
 "metadata": {
  "kernelspec": {
   "display_name": "Python 3",
   "language": "python",
   "name": "python3"
  },
  "language_info": {
   "codemirror_mode": {
    "name": "ipython",
    "version": 3
   },
   "file_extension": ".py",
   "mimetype": "text/x-python",
   "name": "python",
   "nbconvert_exporter": "python",
   "pygments_lexer": "ipython3",
   "version": "3.11.1"
  },
  "orig_nbformat": 4
 },
 "nbformat": 4,
 "nbformat_minor": 2
}
